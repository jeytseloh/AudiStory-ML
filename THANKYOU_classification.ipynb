{
 "cells": [
  {
   "cell_type": "code",
   "execution_count": 74,
   "metadata": {},
   "outputs": [],
   "source": [
    "%reset"
   ]
  },
  {
   "cell_type": "code",
   "execution_count": 75,
   "metadata": {},
   "outputs": [
    {
     "name": "stdout",
     "output_type": "stream",
     "text": [
      "Imported libraries\n"
     ]
    }
   ],
   "source": [
    "import torch\n",
    "import torch.nn as nn\n",
    "import torch.nn.functional as F\n",
    "import torchvision\n",
    "import torchvision.transforms as transforms\n",
    "from torchvision.datasets import ImageFolder\n",
    "from torch.utils.data import DataLoader\n",
    "from torch.utils.data import random_split\n",
    "from torch.optim import Adam\n",
    "import matplotlib.pyplot as plt\n",
    "import numpy as np\n",
    "from PIL import Image\n",
    "\n",
    "print('Imported libraries')"
   ]
  },
  {
   "cell_type": "code",
   "execution_count": 76,
   "metadata": {},
   "outputs": [
    {
     "name": "stdout",
     "output_type": "stream",
     "text": [
      "cpu\n"
     ]
    }
   ],
   "source": [
    "# Device configuration\n",
    "device = torch.device('cuda' if torch.cuda.is_available() else 'cpu')\n",
    "print(device)"
   ]
  },
  {
   "cell_type": "code",
   "execution_count": 77,
   "metadata": {},
   "outputs": [],
   "source": [
    "class ConvNet(nn.Module):\n",
    "    def __init__(self):\n",
    "        super(ConvNet, self).__init__()\n",
    "        self.conv1 = nn.Conv2d(3, 6, 5)\n",
    "        self.pool = nn.MaxPool2d(2, 2)\n",
    "        self.conv2 = nn.Conv2d(6, 16, 5)\n",
    "        self.fc1 = nn.Linear(16 * 47 * 47, 256)\n",
    "        self.fc2 = nn.Linear(256, 120)\n",
    "        self.fc3 = nn.Linear(120, 28)\n",
    "\n",
    "    def forward(self, x):\n",
    "        x = self.pool(F.relu(self.conv1(x)))\n",
    "        x = self.pool(F.relu(self.conv2(x)))\n",
    "        x = x.view(-1, 16 * 47 * 47)\n",
    "        x = F.relu(self.fc1(x))\n",
    "        x = F.relu(self.fc2(x))\n",
    "        x = self.fc3(x)\n",
    "        return x"
   ]
  },
  {
   "cell_type": "code",
   "execution_count": 78,
   "metadata": {},
   "outputs": [
    {
     "data": {
      "text/plain": [
       "ConvNet(\n",
       "  (conv1): Conv2d(3, 6, kernel_size=(5, 5), stride=(1, 1))\n",
       "  (pool): MaxPool2d(kernel_size=2, stride=2, padding=0, dilation=1, ceil_mode=False)\n",
       "  (conv2): Conv2d(6, 16, kernel_size=(5, 5), stride=(1, 1))\n",
       "  (fc1): Linear(in_features=35344, out_features=256, bias=True)\n",
       "  (fc2): Linear(in_features=256, out_features=120, bias=True)\n",
       "  (fc3): Linear(in_features=120, out_features=28, bias=True)\n",
       ")"
      ]
     },
     "execution_count": 78,
     "metadata": {},
     "output_type": "execute_result"
    }
   ],
   "source": [
    "state_dict = torch.load('model.pth')\n",
    "model = ConvNet()\n",
    "model.load_state_dict(state_dict)\n",
    "model.eval()"
   ]
  },
  {
   "cell_type": "code",
   "execution_count": 79,
   "metadata": {},
   "outputs": [],
   "source": [
    "# Define transformation to randomly augment image data\n",
    "transformer = transforms.Compose([\n",
    "    transforms.Resize([200,200]), # to ensure all images are the same size\n",
    "    transforms.ToTensor(), # 0-255 to 0-1, numpy to tensors\n",
    "    transforms.Normalize(mean=[0.5, 0.5, 0.5], std=[0.5, 0.5, 0.5]) # 0-1 to [-1,1], formula (x-mean)/std\n",
    "])"
   ]
  },
  {
   "cell_type": "code",
   "execution_count": 80,
   "metadata": {},
   "outputs": [],
   "source": [
    "image = Image.open('H.jpg')\n",
    "image = transformer(image)"
   ]
  },
  {
   "cell_type": "code",
   "execution_count": 81,
   "metadata": {},
   "outputs": [
    {
     "name": "stdout",
     "output_type": "stream",
     "text": [
      "[7.245632913099875e-12, 0.0, 1.8882707897294182e-11, 3.5894767842028204e-23, 1.059644624147619e-29, 1.4842374551626847e-10, 4.958981359229342e-13, 2.6167681065893903e-15, 7.369203468462154e-23, 0.09435275942087173, 0.0, 0.0006204083911143243, 1.4808669578683768e-21, 6.902595162117109e-11, 1.4562725720065417e-23, 0.9049761891365051, 1.2950634697972419e-07, 0.0, 5.50712506959182e-22, 5.436480085552198e-11, 0.0, 0.0, 0.0, 4.412876886885205e-30, 9.355444419156811e-09, 5.048790990258567e-05, 4.001493391859509e-24, 5.167333227973359e-10]\n"
     ]
    }
   ],
   "source": [
    "with torch.no_grad():\n",
    "    output = model(image)\n",
    "\n",
    " # Convert the output into a probability distribution over the classes\n",
    "probs = torch.nn.functional.softmax(output[0], dim=0)\n",
    "\n",
    "# Convert the probability distribution to a list\n",
    "probs_list = probs.tolist()\n",
    "\n",
    "print(probs_list)"
   ]
  },
  {
   "cell_type": "code",
   "execution_count": 82,
   "metadata": {},
   "outputs": [
    {
     "name": "stdout",
     "output_type": "stream",
     "text": [
      "A: 0.000000%\n",
      "B: 0.000000%\n",
      "C: 0.000000%\n",
      "D: 0.000000%\n",
      "E: 0.000000%\n",
      "F: 0.000000%\n",
      "G: 0.000000%\n",
      "H: 0.000000%\n",
      "I: 0.000000%\n",
      "J: 9.435276%\n",
      "K: 0.000000%\n",
      "L: 0.062041%\n",
      "M: 0.000000%\n",
      "N: 0.000000%\n",
      "nothing: 0.000000%\n",
      "O: 90.497619%\n",
      "P: 0.000013%\n",
      "Q: 0.000000%\n",
      "R: 0.000000%\n",
      "S: 0.000000%\n",
      "space: 0.000000%\n",
      "T: 0.000000%\n",
      "U: 0.000000%\n",
      "V: 0.000000%\n",
      "W: 0.000001%\n",
      "X: 0.005049%\n",
      "Y: 0.000000%\n",
      "Z: 0.000000%\n"
     ]
    }
   ],
   "source": [
    "classes = ('A', 'B', 'C', 'D', 'E', 'F', 'G', \n",
    "           'H', 'I', 'J', 'K', 'L', 'M', 'N', \n",
    "           'nothing', 'O', 'P', 'Q', 'R', 'S', 'space', \n",
    "           'T', 'U', 'V', 'W', 'X', 'Y', 'Z')\n",
    "\n",
    "for i in range (28):\n",
    "    print('{}: {:.6f}%'.format(classes[i], probs_list[i] * 100))"
   ]
  },
  {
   "cell_type": "code",
   "execution_count": 83,
   "metadata": {},
   "outputs": [],
   "source": [
    "# _, predicted = torch.max(output.data, 1)\n",
    "# class_idx = predicted.item()\n",
    "# print(predicted)\n",
    "# print(class_idx)"
   ]
  }
 ],
 "metadata": {
  "kernelspec": {
   "display_name": "Python 3",
   "language": "python",
   "name": "python3"
  },
  "language_info": {
   "codemirror_mode": {
    "name": "ipython",
    "version": 3
   },
   "file_extension": ".py",
   "mimetype": "text/x-python",
   "name": "python",
   "nbconvert_exporter": "python",
   "pygments_lexer": "ipython3",
   "version": "3.10.9"
  },
  "orig_nbformat": 4
 },
 "nbformat": 4,
 "nbformat_minor": 2
}
