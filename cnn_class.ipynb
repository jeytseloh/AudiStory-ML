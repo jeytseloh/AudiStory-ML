{
 "cells": [
  {
   "cell_type": "code",
   "execution_count": 4,
   "metadata": {},
   "outputs": [],
   "source": [
    "import torch\n",
    "import torchvision\n",
    "import torch.nn as nn\n",
    "import torch.nn.functional as F"
   ]
  },
  {
   "cell_type": "code",
   "execution_count": 3,
   "metadata": {},
   "outputs": [],
   "source": [
    "class Net(nn.Module):\n",
    "\n",
    "    def __init__(self, num_classes=28):\n",
    "        \"\"\"Defining the Constructor - define each layer to be used in our model\"\"\"\n",
    "        # RGB images, so we have 3 input channels\n",
    "        super(Net, self).__init__()\n",
    "\n",
    "        # apply 12 filters in first conv. layer\n",
    "        self.conv1 = nn.Conv2d(in_channels=3, out_channels=12, kernel_size=3, stride=1, padding=1)\n",
    "\n",
    "        # second conv. layer takes 12 input channels and generates 24 outputs\n",
    "        self.conv2 = nn.Conv2d(in_channels=12, out_channels=24, kernel_size=3, stride=1, padding=1)\n",
    "\n",
    "        # apply max pooling with kernel size 2\n",
    "        self.pool = nn.MaxPool2d(kernel_size=2)\n",
    "\n",
    "        # drop layer to delete 20% of features to help prevent overfitting\n",
    "        self.drop = nn.Dropout2d(p=0.2)\n",
    "\n",
    "        # 200x200 image tensors pooled twice with kernel size 2 -> feature tensors now 50x50, and 24 of them generated\n",
    "\n",
    "        # flatten feature tensors to feed to fully-connected layer\n",
    "        self.fc = nn.Linear(in_features=50*50*24, out_features=num_classes)\n",
    "\n",
    "    def forward(self, x):\n",
    "        \"\"\"Pass data through layers defined in constructor\"\"\"\n",
    "        #  use ReLU activation function after layer 1 (convolution 1 & pool)\n",
    "        x = F.relu(self.pool(self.conv1(x)))\n",
    "\n",
    "        # use ReLU activation function after layer 2\n",
    "        x = F.relu(self.pool(self.conv2(x)))\n",
    "\n",
    "        # select some features to drop to prevent overfitting\n",
    "        x = F.dropout(self.drop(x), training=self.training)\n",
    "\n",
    "        # flatten\n",
    "        x = x.view(-1, 50*50*24)\n",
    "\n",
    "        # feed to fully-connected layer to predict class\n",
    "        x = self.fc(x)\n",
    "\n",
    "        return torch.log_softmax(x, dim=1) # return class probabilities\n"
   ]
  }
 ],
 "metadata": {
  "kernelspec": {
   "display_name": "Python 3",
   "language": "python",
   "name": "python3"
  },
  "language_info": {
   "codemirror_mode": {
    "name": "ipython",
    "version": 3
   },
   "file_extension": ".py",
   "mimetype": "text/x-python",
   "name": "python",
   "nbconvert_exporter": "python",
   "pygments_lexer": "ipython3",
   "version": "3.10.9"
  },
  "orig_nbformat": 4,
  "vscode": {
   "interpreter": {
    "hash": "e3d88c894382e161097c0eb81ecce4a09f585543f214b88d2eaaeced97de66c2"
   }
  }
 },
 "nbformat": 4,
 "nbformat_minor": 2
}
