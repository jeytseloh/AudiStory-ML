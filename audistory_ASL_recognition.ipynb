{
  "nbformat": 4,
  "nbformat_minor": 0,
  "metadata": {
    "colab": {
      "provenance": [],
      "authorship_tag": "ABX9TyNAUxzf7vgZX+Vd9po2jpvn",
      "include_colab_link": true
    },
    "kernelspec": {
      "name": "python3",
      "display_name": "Python 3"
    },
    "language_info": {
      "name": "python"
    }
  },
  "cells": [
    {
      "cell_type": "markdown",
      "metadata": {
        "id": "view-in-github",
        "colab_type": "text"
      },
      "source": [
        "<a href=\"https://colab.research.google.com/github/jeytseloh/AudiStory_ML/blob/main/audistory_ASL_recognition.ipynb\" target=\"_parent\"><img src=\"https://colab.research.google.com/assets/colab-badge.svg\" alt=\"Open In Colab\"/></a>"
      ]
    },
    {
      "cell_type": "markdown",
      "source": [
        "**Problem Defintion**: Recognise ASL alphabets\n",
        "\n",
        "**Dataset**: [ASL Alphabet](https://www.kaggle.com/datasets/grassknoted/asl-alphabet)\n",
        "\n",
        "**Evaluation Metric**: Accuracy (proportion of correctly recognised alphabets)\n",
        "\n",
        "**Model**: CNN"
      ],
      "metadata": {
        "id": "odJy5Qf0Hqle"
      }
    },
    {
      "cell_type": "code",
      "execution_count": null,
      "metadata": {
        "id": "fEaML1SwG2i8"
      },
      "outputs": [],
      "source": []
    }
  ]
}